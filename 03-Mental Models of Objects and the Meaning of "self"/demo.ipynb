{
 "cells": [
  {
   "cell_type": "markdown",
   "metadata": {},
   "source": [
    "The variable self is not a keyword in python but it is used by convention - any other name could be used and the code would work just fine. However, using self is a universally accepted practice in python"
   ]
  },
  {
   "cell_type": "code",
   "execution_count": null,
   "metadata": {},
   "outputs": [],
   "source": []
  }
 ],
 "metadata": {
  "language_info": {
   "name": "python"
  },
  "orig_nbformat": 4
 },
 "nbformat": 4,
 "nbformat_minor": 2
}

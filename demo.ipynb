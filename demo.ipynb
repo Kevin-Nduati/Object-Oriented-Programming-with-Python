{
 "cells": [
  {
   "cell_type": "markdown",
   "metadata": {},
   "source": [
    "The DimmerSwitch class has mre functionality \n",
    "* The switch state (on and off)\n",
    "* Brighteness level (0 to 10)\n",
    "And here are the behaviors it can perform:\n",
    "* Turn on\n",
    "* Turn off\n",
    "* Raise level\n",
    "* Lower level\n",
    "* Show(for debugging)"
   ]
  },
  {
   "cell_type": "code",
   "execution_count": 1,
   "metadata": {},
   "outputs": [
    {
     "name": "stdout",
     "output_type": "stream",
     "text": [
      "Switch is: True\n",
      "Brightness is: 5\n"
     ]
    }
   ],
   "source": [
    "class DimmerSwitch():\n",
    "    def __init__(self):\n",
    "        self.switchIsOn = False\n",
    "        self.brightness = 0\n",
    "        \n",
    "    def turnOn(self):\n",
    "        self.switchIsOn = True\n",
    "    \n",
    "    def turnOff(self):\n",
    "        self.switchIsOn = False\n",
    "        \n",
    "    def raiseLevel(self):\n",
    "        if self.brightness < 10:\n",
    "            self.brightness = self.brightness + 1\n",
    "    \n",
    "    def lowerLevel(self):\n",
    "        if self.brightness > 0:\n",
    "            self.brightness = self.brightness -1\n",
    "            \n",
    "    def show(self):\n",
    "        print('Switch is:', self.switchIsOn)\n",
    "        print('Brightness is:', self.brightness)\n",
    "        \n",
    "        \n",
    "switch = DimmerSwitch()\n",
    "\n",
    "switch.turnOn()\n",
    "switch.raiseLevel()\n",
    "switch.raiseLevel()\n",
    "switch.raiseLevel()\n",
    "switch.raiseLevel()\n",
    "switch.raiseLevel()\n",
    "switch.show()"
   ]
  },
  {
   "cell_type": "markdown",
   "metadata": {},
   "source": [
    "# Representing a tv remote\n",
    "\n",
    "A tv class would have to maintain the following data\n",
    "* Power state (on or off)\n",
    "* Mute state(is it muted)\n",
    "* List of channnels available\n",
    "* Current channel setting\n",
    "* Current volume setting\n",
    "* Range of volume levels available\n",
    "\n",
    "And the actions that the TV must provide include:\n",
    "* Turn the power on and off\n",
    "* Raise and lower the volume\n",
    "* Change the channel up and down\n",
    "* Mute and unmute the sound\n",
    "* Get information about the current settings\n",
    "* Go to a specified channel"
   ]
  },
  {
   "cell_type": "code",
   "execution_count": 6,
   "metadata": {},
   "outputs": [],
   "source": [
    "class TV():\n",
    "    def __init__(self):\n",
    "        self.isOn = False\n",
    "        self.isMuted = False\n",
    "        self.channelList = [2,4,5,7,9,11,20,36,44,54,65]\n",
    "        self.nchannels = len(self.channelList)\n",
    "        self.channelIndex = 0\n",
    "        self.VOLUME_MINIMUM = 0\n",
    "        self.VOLUME_MAXIMUM = 0\n",
    "        self.volume = self.VOLUME_MAXIMUM\n",
    "    \n",
    "    def power(self):\n",
    "        self.isOn = not self.isOn\n",
    "    def volumeUp(self):\n",
    "        if not self.isOn:\n",
    "            return \n",
    "        if self.isMuted:\n",
    "            self.isMuted = False\n",
    "        if self.volume < self.VOLUME_MAXIMUM:\n",
    "            self.volume = self.volume + 1\n",
    "            \n",
    "    def volumeDown(self):\n",
    "        if not self.isOn:\n",
    "            return \n",
    "        if self.isMuted:\n",
    "            self.isMuted = False\n",
    "        if self.volume > self.VOLUME_MINIMUM:\n",
    "            self.volume = self.volume - 1\n",
    "    \n",
    "    def channelUp(self):\n",
    "        if not self.isOn:\n",
    "            return\n",
    "        self.channelIndex = self.channelIndex + 1\n",
    "        if self.channelIndex > self.nchannels:\n",
    "            self.channelIndex = 0\n",
    "    \n",
    "    def channelDown(self):\n",
    "        if not self.isOn:\n",
    "            return\n",
    "        self.channelIndex = self.channelIndex - 1\n",
    "        if self.channelIndex < 0:\n",
    "            self.channelIndex = self.nchannels - 1\n",
    "            \n",
    "    def mute(self):\n",
    "        if not self.isOn:\n",
    "            return \n",
    "        self.isMuted = not self.isMuted\n",
    "        \n",
    "    def setChannel(self, newChannel):\n",
    "        if newChannel in self.channelList:\n",
    "            self.channelIndex = self.channelList.index(newChannel)\n",
    "            \n",
    "    def show(self):\n",
    "        print()\n",
    "        print('TV Status:')\n",
    "        if self.isOn:\n",
    "            print('     TV is on')\n",
    "            print('     Channel is:', self.channelList[self.channelIndex])\n",
    "            if self.isMuted:\n",
    "                print('     Volume is:', self.volume, '(sound is muted)')\n",
    "            else:\n",
    "                print('     Volume is:', self.volume)\n",
    "        else:\n",
    "            print('     TV is: off')\n",
    "\n"
   ]
  },
  {
   "cell_type": "code",
   "execution_count": 8,
   "metadata": {},
   "outputs": [
    {
     "name": "stdout",
     "output_type": "stream",
     "text": [
      "\n",
      "TV Status:\n",
      "     TV is on\n",
      "     Channel is: 2\n",
      "     Volume is: 0\n"
     ]
    }
   ],
   "source": [
    "tv = TV()\n",
    "\n",
    "tv.power()\n",
    "tv.show()"
   ]
  },
  {
   "cell_type": "code",
   "execution_count": 9,
   "metadata": {},
   "outputs": [
    {
     "name": "stdout",
     "output_type": "stream",
     "text": [
      "\n",
      "TV Status:\n",
      "     TV is on\n",
      "     Channel is: 9\n",
      "     Volume is: 0\n"
     ]
    }
   ],
   "source": [
    "tv.channelUp()\n",
    "tv.channelUp()\n",
    "tv.channelUp()\n",
    "tv.channelUp()\n",
    "tv.show()"
   ]
  },
  {
   "cell_type": "code",
   "execution_count": 16,
   "metadata": {},
   "outputs": [
    {
     "name": "stdout",
     "output_type": "stream",
     "text": [
      "\n",
      "TV Status:\n",
      "     TV is on\n",
      "     Channel is: 9\n",
      "     Volume is: 0\n"
     ]
    }
   ],
   "source": [
    "tv.volumeDown() \n",
    "tv.volumeDown() \n",
    "tv.volumeDown() \n",
    "tv.volumeDown() \n",
    "tv.show()"
   ]
  },
  {
   "cell_type": "code",
   "execution_count": null,
   "metadata": {},
   "outputs": [],
   "source": []
  },
  {
   "cell_type": "code",
   "execution_count": null,
   "metadata": {},
   "outputs": [],
   "source": []
  }
 ],
 "metadata": {
  "kernelspec": {
   "display_name": "Python 3.8.10 64-bit",
   "language": "python",
   "name": "python3"
  },
  "language_info": {
   "codemirror_mode": {
    "name": "ipython",
    "version": 3
   },
   "file_extension": ".py",
   "mimetype": "text/x-python",
   "name": "python",
   "nbconvert_exporter": "python",
   "pygments_lexer": "ipython3",
   "version": "3.8.10"
  },
  "orig_nbformat": 4,
  "vscode": {
   "interpreter": {
    "hash": "31f2aee4e71d21fbe5cf8b01ff0e069b9275f58929596ceb00d14d90e3e16cd6"
   }
  }
 },
 "nbformat": 4,
 "nbformat_minor": 2
}

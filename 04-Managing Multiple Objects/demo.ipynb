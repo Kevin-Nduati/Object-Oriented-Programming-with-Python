{
 "cells": [
  {
   "cell_type": "code",
   "execution_count": 1,
   "metadata": {},
   "outputs": [],
   "source": [
    "from Account import *"
   ]
  },
  {
   "cell_type": "code",
   "execution_count": 3,
   "metadata": {},
   "outputs": [],
   "source": [
    "acc = Account('Kevin KAmau', 3000, 'yoh123')"
   ]
  },
  {
   "cell_type": "code",
   "execution_count": 4,
   "metadata": {},
   "outputs": [
    {
     "name": "stdout",
     "output_type": "stream",
     "text": [
      "Name: Kevin KAmau\n",
      "Balance: 4000\n",
      "Password: yoh123\n",
      "\n"
     ]
    }
   ],
   "source": [
    "acc.deposit(1000, 'yoh123')\n",
    "acc.show()"
   ]
  },
  {
   "cell_type": "markdown",
   "metadata": {},
   "source": [
    "There are two benefits to importing class code:\n",
    "* The module is reusable, so if we want to use Account.py in some other project, we just need to make a copy of the file and place it into that project's folder.\n",
    "* If your class code is included in the main program, every time your un the program, Python compiles all the code in your class (translates it into a lower-level language  that is more easily runnable on your computer), even if you have not made any changes to the class\n",
    "\n",
    "However, when you run your main progress with your class code imported, Python optimizes the compile step without you having to do anything. It creates a folder named __pycache__ in the project folder, then compiles the code in your class file and saves the compiled code in the __pycache__ folder with a variant of the original python filename"
   ]
  },
  {
   "cell_type": "code",
   "execution_count": 5,
   "metadata": {},
   "outputs": [
    {
     "name": "stdout",
     "output_type": "stream",
     "text": [
      "Name: Joe\n",
      "Balance: 150\n",
      "Password: 123\n",
      "\n",
      "Name: Tasha\n",
      "Balance: 1115\n",
      "Password: Tashpass\n",
      "\n"
     ]
    }
   ],
   "source": [
    "Joe = Account('Joe', 100, '123')\n",
    "Tash = Account('Tasha', 1240, 'Tashpass')\n",
    "\n",
    "Joe.deposit(50, '123')\n",
    "Joe.show()\n",
    "\n",
    "Tash.withdraw(125, 'Tashpass')\n",
    "Tash.show()"
   ]
  },
  {
   "cell_type": "markdown",
   "metadata": {},
   "source": [
    "Representing each account in a separate global variable works, but this is not a good approach when we need to handle a large number of objects. A bank would need a way to handle an arbitrary number of accounts. Whenever we need an arbitrary number of pieces of data, a list is the typical solution. We will start with an empty list of Account objects. Every time a user opens an account, we'll instanstiate an account object and the resulting object onto oyr list. The account nmber of any given account will be indexed of the account in the list"
   ]
  },
  {
   "cell_type": "code",
   "execution_count": 7,
   "metadata": {},
   "outputs": [
    {
     "name": "stdout",
     "output_type": "stream",
     "text": [
      "Name: Joe\n",
      "Balance: 100\n",
      "Password: JoesPassword\n",
      "\n",
      "Name: Mary\n",
      "Balance: 1300\n",
      "Password: MarysPassword\n",
      "\n"
     ]
    }
   ],
   "source": [
    "from Account import *\n",
    "accountsList = []\n",
    "cl1 = Account('Joe', 100, 'JoesPassword')\n",
    "accountsList.append(cl1)\n",
    "\n",
    "cl2 = Account('Mary', 1300, 'MarysPassword')\n",
    "accountsList.append(cl2)\n",
    "\n",
    "accountsList[0].show()\n",
    "accountsList[1].show()"
   ]
  },
  {
   "cell_type": "code",
   "execution_count": 9,
   "metadata": {},
   "outputs": [
    {
     "name": "stdout",
     "output_type": "stream",
     "text": [
      "Name: Joe\n",
      "Balance: 200\n",
      "Password: JoesPassword\n",
      "\n",
      "Name: Mary\n",
      "Balance: 610\n",
      "Password: MarysPassword\n",
      "\n"
     ]
    }
   ],
   "source": [
    "accountsList[0].deposit(50, 'JoesPassword')\n",
    "accountsList[1].withdraw(345, 'MarysPassword')\n",
    "\n",
    "accountsList[0].show()\n",
    "accountsList[1].show()"
   ]
  },
  {
   "cell_type": "code",
   "execution_count": 12,
   "metadata": {},
   "outputs": [],
   "source": [
    "from Bank import *"
   ]
  },
  {
   "cell_type": "code",
   "execution_count": 13,
   "metadata": {},
   "outputs": [
    {
     "name": "stdout",
     "output_type": "stream",
     "text": [
      "0\n",
      "1\n"
     ]
    }
   ],
   "source": [
    "# create two test accounts\n",
    "bank = Bank()\n",
    "\n",
    "joesAccount = bank.createAccount('Joe', 100, 'joespassword')\n",
    "print(joesAccount)\n",
    "\n",
    "marysAccount = bank.createAccount('Mary', 1250, 'maryspassword')\n",
    "print(marysAccount)"
   ]
  },
  {
   "cell_type": "code",
   "execution_count": null,
   "metadata": {},
   "outputs": [],
   "source": []
  }
 ],
 "metadata": {
  "kernelspec": {
   "display_name": "Python 3.8.10 64-bit",
   "language": "python",
   "name": "python3"
  },
  "language_info": {
   "codemirror_mode": {
    "name": "ipython",
    "version": 3
   },
   "file_extension": ".py",
   "mimetype": "text/x-python",
   "name": "python",
   "nbconvert_exporter": "python",
   "pygments_lexer": "ipython3",
   "version": "3.8.10"
  },
  "orig_nbformat": 4,
  "vscode": {
   "interpreter": {
    "hash": "31f2aee4e71d21fbe5cf8b01ff0e069b9275f58929596ceb00d14d90e3e16cd6"
   }
  }
 },
 "nbformat": 4,
 "nbformat_minor": 2
}
